{
 "cells": [
  {
   "cell_type": "code",
   "execution_count": 2,
   "id": "e41b6be7-5ea6-43d6-824d-3dfc9375b673",
   "metadata": {},
   "outputs": [
    {
     "name": "stdout",
     "output_type": "stream",
     "text": [
      "First resized image dimension\n",
      "width: 66 pixels\n",
      "height: 42 pixels\n",
      "\n",
      "Second resized image dimension\n",
      "width: 168 pixels\n",
      "height: 110 pixels\n",
      "\n",
      "Third resized image via function\n",
      "width: 230 pixels\n",
      "height: 150 pixels\n"
     ]
    }
   ],
   "source": [
    "import cv2\n",
    "import numpy as np\n",
    "import imutils\n",
    "\n",
    "path = r'../images/trex.png'\n",
    "image = cv2.imread(path)\n",
    "cv2.startWindowThread()\n",
    "cv2.imshow(\"Original\", image)\n",
    "cv2.waitKey(0)\n",
    "\n",
    "r = 66.0/image.shape[1]\n",
    "dim = (66, int(image.shape[0]*r))\n",
    "resized = cv2.resize(image, dim, interpolation=cv2.INTER_AREA)\n",
    "cv2.imshow(\"Resize (Width)\", resized)\n",
    "print(\"First resized image dimension\")\n",
    "print(\"width: {} pixels\".format(resized.shape[1]))\n",
    "print(\"height: {} pixels\\n\".format(resized.shape[0]))\n",
    "cv2.waitKey(0)\n",
    "\n",
    "r = 110.0/image.shape[0]\n",
    "dim = (int(image.shape[1]*r), 110)\n",
    "resized = cv2.resize(image, dim, interpolation=cv2.INTER_AREA)\n",
    "cv2.imshow(\"Resize (Height)\", resized)\n",
    "print(\"Second resized image dimension\")\n",
    "print(\"width: {} pixels\".format(resized.shape[1]))\n",
    "print(\"height: {} pixels\\n\".format(resized.shape[0]))\n",
    "cv2.waitKey(0)\n",
    "\n",
    "resized = imutils.resize(image, height=150)\n",
    "cv2.imshow(\"Resize (width=100)\", resized)\n",
    "print(\"Third resized image via function\")\n",
    "print(\"width: {} pixels\".format(resized.shape[1]))\n",
    "print(\"height: {} pixels\".format(resized.shape[0]))\n",
    "cv2.waitKey(0)\n",
    "\n",
    "cv2.destroyAllWindows()"
   ]
  }
 ],
 "metadata": {
  "kernelspec": {
   "display_name": "Python 3",
   "language": "python",
   "name": "python3"
  },
  "language_info": {
   "codemirror_mode": {
    "name": "ipython",
    "version": 3
   },
   "file_extension": ".py",
   "mimetype": "text/x-python",
   "name": "python",
   "nbconvert_exporter": "python",
   "pygments_lexer": "ipython3",
   "version": "3.8.8"
  }
 },
 "nbformat": 4,
 "nbformat_minor": 5
}
