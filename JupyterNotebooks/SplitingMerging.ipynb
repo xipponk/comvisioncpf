{
 "cells": [
  {
   "cell_type": "code",
   "execution_count": 5,
   "id": "d67a29e3-4b0f-4886-9816-beac3dbe0ce6",
   "metadata": {},
   "outputs": [],
   "source": [
    "import numpy as np\n",
    "import cv2\n",
    "\n",
    "\n",
    "path = r'../images/wave.png'\n",
    "image = cv2.imread(path)\n",
    "\n",
    "cv2.startWindowThread()\n",
    "cv2.imshow(\"Original\", image)\n",
    "cv2.waitKey(0)\n",
    "\n",
    "(B, G, R) = cv2.split(image)\n",
    "(B, G, R) = cv2.split(image)\n",
    "cv2.imshow('RED', R)\n",
    "cv2.imshow('GREEN', G)\n",
    "cv2.imshow('BLUE', B)\n",
    "cv2.waitKey(0)\n",
    "\"\"\"\n",
    "zeros = np.zeros(image.shape[0:2], dtype = \"uint8\")\n",
    "cv2.imshow('RED', cv2.merge([zeros, zeros, R]))\n",
    "cv2.imshow('GREEN', cv2.merge([zeros, G, zeros]))\n",
    "cv2.imshow('BLUE', cv2.merge([B, zeros, zeros]))\n",
    "cv2.waitKey(0)\n",
    "\"\"\"\n",
    "M = np.ones(R.shape, dtype = \"uint8\") * 100\n",
    "added_R = cv2.add(R, M)\n",
    "cv2.imshow('Enhanced RED', added_R)\n",
    "cv2.waitKey(0)\n",
    "\n",
    "merged = cv2.merge([B, G, R])\n",
    "cv2.imshow(\"Merged\", merged)\n",
    "cv2.waitKey(0)\n",
    "\n",
    "new_merged = cv2.merge([B, G, added_R])\n",
    "cv2.imshow(\"New Merged\", new_merged)\n",
    "cv2.waitKey(0)\n",
    "\n",
    "\n",
    "cv2.destroyAllWindows()"
   ]
  }
 ],
 "metadata": {
  "kernelspec": {
   "display_name": "Python 3",
   "language": "python",
   "name": "python3"
  },
  "language_info": {
   "codemirror_mode": {
    "name": "ipython",
    "version": 3
   },
   "file_extension": ".py",
   "mimetype": "text/x-python",
   "name": "python",
   "nbconvert_exporter": "python",
   "pygments_lexer": "ipython3",
   "version": "3.8.8"
  }
 },
 "nbformat": 4,
 "nbformat_minor": 5
}
