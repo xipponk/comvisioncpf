{
 "cells": [
  {
   "cell_type": "markdown",
   "id": "7b24afa7-2598-4556-a041-2c82103689d3",
   "metadata": {},
   "source": [
    "# Open Camera"
   ]
  },
  {
   "cell_type": "code",
   "execution_count": 5,
   "id": "7ff76a9a-4dad-4108-a107-07aa71c439d9",
   "metadata": {},
   "outputs": [],
   "source": [
    "import numpy as np\n",
    "import cv2\n",
    "#import time\n",
    "\n",
    "cap = cv2.VideoCapture(0)\n",
    "\n",
    "\"\"\"\n",
    "For play video code bloack\n",
    "cap = cv2.VideoCapture('../videos/ZeroWaste.mp4')\n",
    "fps= int(cap.get(cv2.CAP_PROP_FPS))\n",
    "print(\"This is the fps \", fps)\n",
    "\"\"\"\n",
    "\n",
    "if cap.isOpened() == False:\n",
    "    print(\"Error File or Camera Not Found\")\n",
    "\n",
    "while cap.isOpened():\n",
    "    ret, frame = cap.read()\n",
    "    cv2.imshow('frame',frame)\n",
    "    if cv2.waitKey(1) & 0xFF == ord('q'):\n",
    "        break\n",
    "\"\"\"\n",
    "    if ret == True:\n",
    "        time.sleep(1/fps)\n",
    "        cv2.imshow('frame',frame)\n",
    "        if cv2.waitKey(1) & 0xFF == ord('q'):\n",
    "            break\n",
    "    else:\n",
    "        break\n",
    "\"\"\"\n",
    "\n",
    "cap.release()\n",
    "cv2.destroyAllWindows()"
   ]
  },
  {
   "cell_type": "markdown",
   "id": "268e1027-61f5-4878-a8a8-da4ca7a094be",
   "metadata": {},
   "source": [
    "# Recording Video"
   ]
  },
  {
   "cell_type": "code",
   "execution_count": null,
   "id": "eb5f9331-6c09-43b5-8b39-ee1a3a791a15",
   "metadata": {},
   "outputs": [],
   "source": [
    "import numpy as np\n",
    "import cv2\n",
    "\n",
    "cap = cv2.VideoCapture(0)\n",
    "fourcc = cv2.VideoWriter_fourcc(*'XVID')\n",
    "out = cv2.VideoWriter('output.avi',fourcc, 20.0, (640,480))\n",
    "while(True):\n",
    "    ret, frame = cap.read()\n",
    "    cv2.imshow('frame',frame)\n",
    "    out.write(frame)\n",
    "    if cv2.waitKey(1) & 0xFF == ord('q'):\n",
    "        break\n",
    "\n",
    "cap.release()\n",
    "cv2.destroyAllWindows()"
   ]
  }
 ],
 "metadata": {
  "kernelspec": {
   "display_name": "Python 3",
   "language": "python",
   "name": "python3"
  },
  "language_info": {
   "codemirror_mode": {
    "name": "ipython",
    "version": 3
   },
   "file_extension": ".py",
   "mimetype": "text/x-python",
   "name": "python",
   "nbconvert_exporter": "python",
   "pygments_lexer": "ipython3",
   "version": "3.8.8"
  }
 },
 "nbformat": 4,
 "nbformat_minor": 5
}
