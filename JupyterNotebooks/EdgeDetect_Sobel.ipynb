{
 "cells": [
  {
   "cell_type": "code",
   "execution_count": 3,
   "id": "f193451f-b39a-41e5-84c1-7234fa6780bf",
   "metadata": {},
   "outputs": [],
   "source": [
    "import numpy as np\n",
    "import cv2\n",
    "\n",
    "path = r'../images/coins.png'\n",
    "image = cv2.imread(path)\n",
    "\n",
    "cv2.startWindowThread()\n",
    "image = cv2.cvtColor(image, cv2.COLOR_BGR2GRAY)\n",
    "\n",
    "cv2.imshow(\"Original Gray\", image)\n",
    "\n",
    "#image = cv2.GaussianBlur(image, (5,5), 0)\n",
    "#cv2.imshow(\"Blurred\", image)\n",
    "\n",
    "sobelX = cv2.Sobel(image, cv2.CV_64F, 1, 0)\n",
    "sobelY = cv2.Sobel(image, cv2.CV_64F, 0, 1)\n",
    "\n",
    "sobelX = np.uint8(np.absolute(sobelX))\n",
    "sobelY = np.uint8(np.absolute(sobelY))\n",
    "\n",
    "sobelCombined = cv2.bitwise_or(sobelX, sobelY)\n",
    "\n",
    "cv2.imshow(\"Sobel X\", sobelX)\n",
    "cv2.imshow(\"Sobel Y\", sobelY)\n",
    "cv2.imshow(\"Sobel Combined\", sobelCombined)\n",
    "\n",
    "cv2.waitKey(0)\n",
    "cv2.destroyAllWindows()"
   ]
  },
  {
   "cell_type": "markdown",
   "id": "01e7c3dc-e231-47d2-ba9b-6b1ab20ffb34",
   "metadata": {},
   "source": [
    "`laplacian = cv2.Laplacian(img,cv2.CV_64F)`  \n",
    "`sobelx = cv2.Sobel(img,cv2.CV_64F,1,0,ksize=5)`  \n",
    "`sobely = cv2.Sobel(img,cv2.CV_64F,0,1,ksize=5)`"
   ]
  }
 ],
 "metadata": {
  "kernelspec": {
   "display_name": "Python 3",
   "language": "python",
   "name": "python3"
  },
  "language_info": {
   "codemirror_mode": {
    "name": "ipython",
    "version": 3
   },
   "file_extension": ".py",
   "mimetype": "text/x-python",
   "name": "python",
   "nbconvert_exporter": "python",
   "pygments_lexer": "ipython3",
   "version": "3.8.8"
  }
 },
 "nbformat": 4,
 "nbformat_minor": 5
}
