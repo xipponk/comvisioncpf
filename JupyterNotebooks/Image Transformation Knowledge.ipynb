{
 "cells": [
  {
   "cell_type": "markdown",
   "id": "5a833f49-4437-4c53-8f49-d989c86e3714",
   "metadata": {},
   "source": [
    "# Image Transformation\n",
    "\n",
    "## What is an Affine Transformation?\n",
    "\n",
    "An affine transformation is any transformation that preserves collinearity, parallelism as well as the ratio of distances between the points (e.g. midpoint of a line remains the midpoint after transformation). It doesn’t necessarily preserve distances and angles.\n",
    "\n",
    "Thus all the geometric transformations we discussed so far such as translation, rotation, scaling, etc are all affine transformations as all the above properties are preserved in these transformations. To understand in simple terms, one can think of the affine transformation as a composition of rotation, translation, scaling, and shear.\n",
    "\n",
    "In general, the affine transformation can be expressed in the form of a linear transformation followed by a vector addition as shown below\n",
    "\n",
    "![Affine](notebook_figures/affine.png)\n",
    "![Affine](notebook_figures/affine12.png)"
   ]
  }
 ],
 "metadata": {
  "kernelspec": {
   "display_name": "Python 3",
   "language": "python",
   "name": "python3"
  },
  "language_info": {
   "codemirror_mode": {
    "name": "ipython",
    "version": 3
   },
   "file_extension": ".py",
   "mimetype": "text/x-python",
   "name": "python",
   "nbconvert_exporter": "python",
   "pygments_lexer": "ipython3",
   "version": "3.8.8"
  }
 },
 "nbformat": 4,
 "nbformat_minor": 5
}
