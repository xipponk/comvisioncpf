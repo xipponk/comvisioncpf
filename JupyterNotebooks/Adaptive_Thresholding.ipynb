{
 "cells": [
  {
   "cell_type": "code",
   "execution_count": 33,
   "id": "c3eba800-087c-4aba-b23a-6743bda7d52c",
   "metadata": {},
   "outputs": [],
   "source": [
    "import numpy as np\n",
    "import cv2\n",
    "\n",
    "path = r'../images/coins.png'\n",
    "image = cv2.imread(path)\n",
    "\n",
    "cv2.startWindowThread()\n",
    "image = cv2.cvtColor(image, cv2.COLOR_BGR2GRAY)\n",
    "blurred = cv2.GaussianBlur(image, (5, 5), 0)\n",
    "cv2.imshow(\"Image\", image)\n",
    "\n",
    "#thresh = cv2.adaptiveThreshold(blurred, 255, cv2.ADAPTIVE_THRESH_MEAN_C, cv2.THRESH_BINARY_INV, 11, 4)\n",
    "thresh = cv2.adaptiveThreshold(blurred, 255, cv2.ADAPTIVE_THRESH_MEAN_C, cv2.THRESH_BINARY_INV, 455, 9)\n",
    "cv2.imshow(\"Mean Thresh\", thresh)\n",
    "#cv2.adaptiveThreshold input parameters\n",
    "# first parameter is an input image\n",
    "# second parameter is a maximum intensity value for pixel that have intensity over the threshold\n",
    "# third parameter is a method using for compute threshold value \"T\"\n",
    "# fouth parameter is a thresholding method\n",
    "# fifth parameter is neighborhood size (must be odd) 11 mean 11x11 neighborhood size\n",
    "# sixth parameter is \"C\". This value is an integer that is subtracted from the mean, allowing us to fine-tune our thresholding.\n",
    "\n",
    "\n",
    "thresh = cv2.adaptiveThreshold(blurred, 255, cv2.ADAPTIVE_THRESH_MEAN_C, cv2.THRESH_BINARY_INV, 15, 3)\n",
    "cv2.imshow(\"Gaussian Thresh\", thresh)\n",
    "\n",
    "cv2.waitKey(0)\n",
    "cv2.destroyAllWindows()"
   ]
  },
  {
   "cell_type": "markdown",
   "id": "7fa58a65-7472-48d2-9388-928ecaf2c80c",
   "metadata": {},
   "source": [
    "# Note\n",
    "In general, choosing between mean adaptive thresholding and Gaussian adaptive thresholding requires a few experiments on your end. The most important parameters to vary are the neighborhood size and C value, the value you subtract from the mean. By experimenting with this value, you will be able to dramatically change the result of your thresholding."
   ]
  }
 ],
 "metadata": {
  "kernelspec": {
   "display_name": "Python 3",
   "language": "python",
   "name": "python3"
  },
  "language_info": {
   "codemirror_mode": {
    "name": "ipython",
    "version": 3
   },
   "file_extension": ".py",
   "mimetype": "text/x-python",
   "name": "python",
   "nbconvert_exporter": "python",
   "pygments_lexer": "ipython3",
   "version": "3.8.8"
  }
 },
 "nbformat": 4,
 "nbformat_minor": 5
}
