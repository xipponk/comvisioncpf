{
 "cells": [
  {
   "cell_type": "code",
   "execution_count": 6,
   "id": "2113924e-0774-4c2a-b719-e2adfadd96a8",
   "metadata": {},
   "outputs": [],
   "source": [
    "import numpy as np\n",
    "import cv2\n",
    "\n",
    "path = r'../images/coins.png'\n",
    "image = cv2.imread(path)\n",
    "\n",
    "cv2.startWindowThread()\n",
    "image = cv2.cvtColor(image, cv2.COLOR_BGR2GRAY)\n",
    "blurred = cv2.GaussianBlur(image, (5, 5), 0)\n",
    "cv2.imshow(\"Image\", image)\n",
    "\n",
    "(T, thresh) = cv2.threshold(blurred, 155, 255, cv2.THRESH_BINARY)\n",
    "#cv2.threshold input parameters\n",
    "# first parameter is an input image\n",
    "# second parameter is a threshold value\n",
    "# third parameter is a maximum intensity value for pixel that have intensity over the threshold\n",
    "# fouth parameter is a thresholding method for binary threshold, it mean that pexel value that greater than T are set to the maximum value\n",
    "cv2.imshow(\"Threshold Binary\", thresh)\n",
    "\n",
    "(T, threshInv) = cv2.threshold(blurred, 155, 255, cv2.THRESH_BINARY_INV)\n",
    "cv2.imshow(\"Threshold Binary Inverse\", threshInv)\n",
    "\n",
    "cv2.imshow(\"Coins\", cv2.bitwise_and(image, image, mask=threshInv))\n",
    "\n",
    "cv2.waitKey(0)\n",
    "cv2.destroyAllWindows()"
   ]
  }
 ],
 "metadata": {
  "kernelspec": {
   "display_name": "Python 3",
   "language": "python",
   "name": "python3"
  },
  "language_info": {
   "codemirror_mode": {
    "name": "ipython",
    "version": 3
   },
   "file_extension": ".py",
   "mimetype": "text/x-python",
   "name": "python",
   "nbconvert_exporter": "python",
   "pygments_lexer": "ipython3",
   "version": "3.8.8"
  }
 },
 "nbformat": 4,
 "nbformat_minor": 5
}
