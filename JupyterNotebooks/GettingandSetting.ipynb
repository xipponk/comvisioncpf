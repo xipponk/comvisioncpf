{
 "cells": [
  {
   "cell_type": "code",
   "execution_count": 2,
   "id": "296dcad2-7c83-4031-a112-70bdb59c77b0",
   "metadata": {},
   "outputs": [
    {
     "name": "stdout",
     "output_type": "stream",
     "text": [
      "Pixel at (0,0) - Red 254, Green 254, Blue 254\n",
      "Pixel at (0,0) - Red 255, Green 0, Blue 0\n"
     ]
    }
   ],
   "source": [
    "import cv2\n",
    "path = r'../images/trex.png'\n",
    "image = cv2.imread(path)\n",
    "cv2.startWindowThread()\n",
    "cv2.namedWindow(\"Original Image\")\n",
    "cv2.imshow(\"Original\", image)\n",
    "cv2.waitKey(0)\n",
    "#cv2.destroyAllWindows()\n",
    "\n",
    "(b, g, r) = image[0, 0]\n",
    "print(\"Pixel at (0,0) - Red {}, Green {}, Blue {}\".format(r, g, b))\n",
    "image[0, 0] = (0, 0, 255)\n",
    "(b, g, r) = image[0, 0]\n",
    "print(\"Pixel at (0,0) - Red {}, Green {}, Blue {}\".format(r, g, b))\n",
    "\n",
    "#cv2.startWindowThread()\n",
    "cv2.namedWindow(\"Customized Image\")\n",
    "cv2.imshow(\"Customized Image\", image)\n",
    "cv2.waitKey(0)\n",
    "#cv2.destroyAllWindows()\n",
    "\n",
    "corner = image[0:100, 0:50]\n",
    "#cv2.startWindowThread()\n",
    "cv2.namedWindow(\"Corner Image\")\n",
    "cv2.imshow(\"Corner\", corner)\n",
    "cv2.waitKey(0)\n",
    "#cv2.destroyAllWindows()\n",
    "\n",
    "image[0:100, 0:100] = (0, 255, 0)\n",
    "#cv2.startWindowThread()\n",
    "cv2.namedWindow(\"Green Block\")\n",
    "cv2.imshow(\"Green Block\", image)\n",
    "cv2.waitKey(0)\n",
    "cv2.destroyAllWindows()"
   ]
  },
  {
   "cell_type": "code",
   "execution_count": null,
   "id": "8058f0d4-f82e-4671-882d-3e4a99c70b2a",
   "metadata": {},
   "outputs": [],
   "source": []
  }
 ],
 "metadata": {
  "kernelspec": {
   "display_name": "Python 3",
   "language": "python",
   "name": "python3"
  },
  "language_info": {
   "codemirror_mode": {
    "name": "ipython",
    "version": 3
   },
   "file_extension": ".py",
   "mimetype": "text/x-python",
   "name": "python",
   "nbconvert_exporter": "python",
   "pygments_lexer": "ipython3",
   "version": "3.8.8"
  }
 },
 "nbformat": 4,
 "nbformat_minor": 5
}
