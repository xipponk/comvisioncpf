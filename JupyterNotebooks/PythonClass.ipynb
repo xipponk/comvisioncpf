{
 "cells": [
  {
   "cell_type": "code",
   "execution_count": null,
   "id": "f52364fa-dd0a-47a4-9288-60e53f64ffbc",
   "metadata": {},
   "outputs": [],
   "source": [
    "class Person:\n",
    "    def __init__(self, name, gender, height):\n",
    "        self.name = name\n",
    "        self.gender = gender\n",
    "        self.height = height\n",
    "    def me(self):\n",
    "        print(\"My name is {}. I am a {} with {} tall.\".format(self.name, self.gender, self.height))\n",
    "    def height(self):\n",
    "        return self.height\n",
    "    def talk(self):\n",
    "        print(\"{} says Hi!\").format(self.name)\n",
    "        "
   ]
  }
 ],
 "metadata": {
  "kernelspec": {
   "display_name": "Python 3",
   "language": "python",
   "name": "python3"
  },
  "language_info": {
   "codemirror_mode": {
    "name": "ipython",
    "version": 3
   },
   "file_extension": ".py",
   "mimetype": "text/x-python",
   "name": "python",
   "nbconvert_exporter": "python",
   "pygments_lexer": "ipython3",
   "version": "3.8.8"
  }
 },
 "nbformat": 4,
 "nbformat_minor": 5
}
