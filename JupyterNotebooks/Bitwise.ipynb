{
 "cells": [
  {
   "cell_type": "code",
   "execution_count": 3,
   "id": "6193633e-582a-4925-9a09-747e4d73c04d",
   "metadata": {},
   "outputs": [],
   "source": [
    "import numpy as np\n",
    "import cv2\n",
    "\n",
    "canvas1 = np.zeros((300, 300), dtype=\"uint8\")\n",
    "cv2.rectangle(canvas1, (25,25), (275,275), 255, -1)\n",
    "cv2.startWindowThread()\n",
    "cv2.imshow(\"Rectangle\", canvas1)\n",
    "cv2.waitKey(0)\n",
    "\n",
    "canvas2 = np.zeros((300, 300), dtype=\"uint8\")\n",
    "cv2.circle(canvas2, (150,150), 150, 255, -1)\n",
    "cv2.imshow(\"Circle\", canvas2)\n",
    "cv2.waitKey(0)\n",
    "\n",
    "bitwiseAND = cv2.bitwise_and(canvas1, canvas2)\n",
    "cv2.imshow(\"AND\", bitwiseAND)\n",
    "cv2.waitKey(0)\n",
    "\n",
    "bitwiseOR = cv2.bitwise_or(canvas1, canvas2)\n",
    "cv2.imshow(\"OR\", bitwiseOR)\n",
    "cv2.waitKey(0)\n",
    "\n",
    "bitwiseXOR = cv2.bitwise_xor(canvas1, canvas2)\n",
    "cv2.imshow(\"XOR\", bitwiseXOR)\n",
    "cv2.waitKey(0)\n",
    "\n",
    "bitwiseNOT = cv2.bitwise_not(canvas1)\n",
    "cv2.imshow(\"NOT\", bitwiseNOT)\n",
    "cv2.waitKey(0)\n",
    "\n",
    "bitwiseNOT = cv2.bitwise_not(canvas2)\n",
    "cv2.imshow(\"NOT\", bitwiseNOT)\n",
    "cv2.waitKey(0)\n",
    "\n",
    "cv2.destroyAllWindows()"
   ]
  }
 ],
 "metadata": {
  "kernelspec": {
   "display_name": "Python 3",
   "language": "python",
   "name": "python3"
  },
  "language_info": {
   "codemirror_mode": {
    "name": "ipython",
    "version": 3
   },
   "file_extension": ".py",
   "mimetype": "text/x-python",
   "name": "python",
   "nbconvert_exporter": "python",
   "pygments_lexer": "ipython3",
   "version": "3.8.8"
  }
 },
 "nbformat": 4,
 "nbformat_minor": 5
}
