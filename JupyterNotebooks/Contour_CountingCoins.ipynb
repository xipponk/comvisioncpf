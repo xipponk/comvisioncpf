{
 "cells": [
  {
   "cell_type": "code",
   "execution_count": 1,
   "id": "9437d2a2-5539-4d0e-8ff4-012aefecb28f",
   "metadata": {},
   "outputs": [
    {
     "name": "stdout",
     "output_type": "stream",
     "text": [
      "I count 9 coins in this image.\n"
     ]
    }
   ],
   "source": [
    "import numpy as np\n",
    "import cv2\n",
    "import imutils\n",
    "\n",
    "path = r'../images/coins.png'\n",
    "image = cv2.imread(path)\n",
    "\n",
    "#Processing\n",
    "cv2.startWindowThread()\n",
    "gray = cv2.cvtColor(image, cv2.COLOR_BGR2GRAY)\n",
    "blurred = cv2.GaussianBlur(gray, (5,5), 0)\n",
    "edged = imutils.auto_canny(blurred)\n",
    "\n",
    "#Show images\n",
    "cv2.imshow(\"Original\", image)\n",
    "cv2.imshow(\"Original Gray\", gray)\n",
    "cv2.imshow(\"Blurred\", blurred)\n",
    "cv2.imshow(\"Canny\", edged)\n",
    "\n",
    "(cnts, _) = cv2.findContours(edged.copy(), cv2.RETR_EXTERNAL, cv2.CHAIN_APPROX_SIMPLE)\n",
    "print(\"I count {} coins in this image.\".format(len(cnts)))\n",
    "\n",
    "coins = image.copy()\n",
    "cv2.drawContours(coins, cnts, -1, (0, 255,  0), 2)\n",
    "cv2.imshow(\"Coins\", coins)\n",
    "\n",
    "'''\n",
    "# Now, let's loop over each contour\n",
    "for (i, c) in enumerate(cnts):\n",
    "\t# We can compute the 'bounding box' for each contour, which is\n",
    "\t# the rectangle that encloses the contour\n",
    "\t(x, y, w, h) = cv2.boundingRect(c)\n",
    "\n",
    "\t# Now that we have the contour, let's extract it using array\n",
    "\t# slices\n",
    "\tprint(\"Coin #{}\".format(i + 1))\n",
    "\tcoin = image[y:y + h, x:x + w]\n",
    "\tcv2.imshow(\"Coin\", coin)\n",
    "\n",
    "\t# Just for fun, let's construct a mask for the coin by finding\n",
    "\t# The minumum enclosing circle of the contour\n",
    "\tmask = np.zeros(image.shape[:2], dtype = \"uint8\")\n",
    "\t((centerX, centerY), radius) = cv2.minEnclosingCircle(c)\n",
    "\tcv2.circle(mask, (int(centerX), int(centerY)), int(radius), 255, -1)\n",
    "\tmask = mask[y:y + h, x:x + w]\n",
    "\tcv2.imshow(\"Masked Coin\", cv2.bitwise_and(coin, coin, mask = mask))\n",
    "\tcv2.waitKey(0)\n",
    "'''\n",
    "cv2.waitKey(0)\n",
    "cv2.destroyAllWindows()"
   ]
  },
  {
   "cell_type": "markdown",
   "id": "7f5a78f5-520f-4072-b2da-29177ba22034",
   "metadata": {},
   "source": [
    "`cv2.drawContours(image, contour, index of contour (-1 means all), RGB color code(0, 255,  0), thickness of contour line)`"
   ]
  }
 ],
 "metadata": {
  "kernelspec": {
   "display_name": "Python 3",
   "language": "python",
   "name": "python3"
  },
  "language_info": {
   "codemirror_mode": {
    "name": "ipython",
    "version": 3
   },
   "file_extension": ".py",
   "mimetype": "text/x-python",
   "name": "python",
   "nbconvert_exporter": "python",
   "pygments_lexer": "ipython3",
   "version": "3.8.8"
  }
 },
 "nbformat": 4,
 "nbformat_minor": 5
}
