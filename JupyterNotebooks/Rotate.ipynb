{
 "cells": [
  {
   "cell_type": "code",
   "execution_count": 1,
   "id": "afad40ef-d114-4da1-bcd0-985d539148f3",
   "metadata": {},
   "outputs": [],
   "source": [
    "import cv2\n",
    "import numpy as np\n",
    "import imutils\n",
    "\n",
    "path = r'../images/trex.png'\n",
    "image = cv2.imread(path)\n",
    "cv2.startWindowThread()\n",
    "cv2.imshow(\"Original\", image)\n",
    "cv2.waitKey(0)\n",
    "\n",
    "(h, w) = image.shape[0:2]\n",
    "center = (w//2, h//2)\n",
    "\n",
    "M = cv2.getRotationMatrix2D(center, -45, 1.0)\n",
    "rotated = cv2.warpAffine(image, M, (w,h))\n",
    "cv2.imshow(\"Rotated by -45 degree\", rotated)\n",
    "cv2.waitKey(0)\n",
    "\n",
    "rotated = imutils.rotate(image, 45)\n",
    "cv2.imshow(\"Rotaged by 45 degree\", rotated)\n",
    "cv2.waitKey(0)\n",
    "\n",
    "cv2.destroyAllWindows()"
   ]
  },
  {
   "cell_type": "markdown",
   "id": "249668c4-0ad0-41d2-b2d2-7b56aeb0d14a",
   "metadata": {},
   "source": [
    "# Rotational matrix\n",
    "\n",
    "![Affine](notebook_figures/rotation.png)"
   ]
  }
 ],
 "metadata": {
  "kernelspec": {
   "display_name": "Python 3",
   "language": "python",
   "name": "python3"
  },
  "language_info": {
   "codemirror_mode": {
    "name": "ipython",
    "version": 3
   },
   "file_extension": ".py",
   "mimetype": "text/x-python",
   "name": "python",
   "nbconvert_exporter": "python",
   "pygments_lexer": "ipython3",
   "version": "3.8.8"
  }
 },
 "nbformat": 4,
 "nbformat_minor": 5
}
