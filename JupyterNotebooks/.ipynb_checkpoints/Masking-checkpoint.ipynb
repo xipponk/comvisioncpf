{
 "cells": [
  {
   "cell_type": "code",
   "execution_count": 3,
   "id": "3dfacbfa-79dc-469b-a9f2-6f9d70d087da",
   "metadata": {},
   "outputs": [],
   "source": [
    "import cv2\n",
    "import numpy as np\n",
    "\n",
    "\n",
    "path = r'../images/beach.png'\n",
    "image = cv2.imread(path)\n",
    "\n",
    "cv2.startWindowThread()\n",
    "cv2.imshow(\"Original\", image)\n",
    "cv2.waitKey(0)\n",
    "\n",
    "mask = np.zeros(image.shape[0:2], dtype=\"uint8\")\n",
    "mask2 = np.zeros(image.shape[0:2], dtype=\"uint8\")\n",
    "(cX, cY) = (image.shape[1] // 2, image.shape[0] // 2)\n",
    "cv2.rectangle(mask, (cX-75, cY-75), (cX+75, cY+75), 255, -1)\n",
    "cv2.circle(mask2, (cX, cY), 100, 255, -1)\n",
    "cv2.imshow(\"Mask\", mask)\n",
    "cv2.imshow(\"Circle Mask\", mask2)\n",
    "cv2.waitKey(0)\n",
    "\n",
    "masked = cv2.bitwise_and(image, image, mask = mask)\n",
    "masked2 = cv2.bitwise_and(image, image, mask = mask2)\n",
    "cv2.imshow(\"Mask applied to image\", masked)\n",
    "cv2.imshow(\"Mask2 applied to image\", masked2)\n",
    "cv2.waitKey(0)\n",
    "\n",
    "cv2.destroyAllWindows()"
   ]
  }
 ],
 "metadata": {
  "kernelspec": {
   "display_name": "Python 3",
   "language": "python",
   "name": "python3"
  },
  "language_info": {
   "codemirror_mode": {
    "name": "ipython",
    "version": 3
   },
   "file_extension": ".py",
   "mimetype": "text/x-python",
   "name": "python",
   "nbconvert_exporter": "python",
   "pygments_lexer": "ipython3",
   "version": "3.8.8"
  }
 },
 "nbformat": 4,
 "nbformat_minor": 5
}
