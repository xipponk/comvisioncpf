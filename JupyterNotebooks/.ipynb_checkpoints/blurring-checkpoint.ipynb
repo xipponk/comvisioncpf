{
 "cells": [
  {
   "cell_type": "code",
   "execution_count": 2,
   "id": "10463818-1905-47f3-83d8-306349346ef2",
   "metadata": {},
   "outputs": [],
   "source": [
    "import numpy as np\n",
    "import cv2\n",
    "\n",
    "path = r'../images/trex.png'\n",
    "image = cv2.imread(path)\n",
    "\n",
    "cv2.startWindowThread()\n",
    "cv2.imshow(\"Original image\", image)\n",
    "\n",
    "blurred1 = np.hstack([\n",
    "    cv2.blur(image, (3, 3)),\n",
    "    cv2.blur(image, (5, 5)),\n",
    "    cv2.blur(image, (7, 7))\n",
    "])\n",
    "\n",
    "blurred2 = np.hstack([\n",
    "    cv2.GaussianBlur(image, (3, 3), 0),\n",
    "    cv2.GaussianBlur(image, (5, 5), 0),\n",
    "    cv2.GaussianBlur(image, (7, 7), 0)\n",
    "    #The last parameter is SD. By set this value to 0, we are instruct OpenCV to automatically compute them based on kernel size.\n",
    "])\n",
    "\n",
    "blurred3 = np.hstack([\n",
    "    cv2.medianBlur(image, 3),\n",
    "    cv2.medianBlur(image, 5),\n",
    "    cv2.medianBlur(image, 7)\n",
    "])\n",
    "\n",
    "blurred4 = np.hstack([\n",
    "    cv2.bilateralFilter(image, 5, 21, 21),\n",
    "    cv2.bilateralFilter(image, 7, 31, 31),\n",
    "    cv2.bilateralFilter(image, 9, 41, 41)\n",
    "])\n",
    "\n",
    "\n",
    "cv2.imshow(\"Averaged Blur\", blurred1)\n",
    "cv2.imshow(\"Gaussian Blur\", blurred2)\n",
    "cv2.imshow(\"Median Blur\", blurred3)\n",
    "cv2.imshow(\"Bilateral Blur\", blurred4)\n",
    "\n",
    "cv2.waitKey(0)\n",
    "cv2.destroyAllWindows()"
   ]
  }
 ],
 "metadata": {
  "kernelspec": {
   "display_name": "Python 3",
   "language": "python",
   "name": "python3"
  },
  "language_info": {
   "codemirror_mode": {
    "name": "ipython",
    "version": 3
   },
   "file_extension": ".py",
   "mimetype": "text/x-python",
   "name": "python",
   "nbconvert_exporter": "python",
   "pygments_lexer": "ipython3",
   "version": "3.8.8"
  }
 },
 "nbformat": 4,
 "nbformat_minor": 5
}
