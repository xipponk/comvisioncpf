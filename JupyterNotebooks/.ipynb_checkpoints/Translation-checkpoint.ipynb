{
 "cells": [
  {
   "cell_type": "code",
   "execution_count": 1,
   "id": "efcbb80b-fb9c-439b-8113-24009161f1ac",
   "metadata": {},
   "outputs": [],
   "source": [
    "import cv2\n",
    "import numpy as np\n",
    "import imutils\n",
    "\n",
    "path = r'../images/trex.png'\n",
    "image = cv2.imread(path)\n",
    "cv2.startWindowThread()\n",
    "cv2.imshow(\"Original\", image)\n",
    "cv2.waitKey(0)\n",
    "\n",
    "M = np.float32([[1,0,25], [0,1,50]])\n",
    "shifted = cv2.warpAffine(image, M, (image.shape[1], image.shape[0]))\n",
    "cv2.imshow(\"Shifted Down and Right\", shifted)\n",
    "cv2.waitKey(0)\n",
    "\n",
    "M = np.float32([[1,0,-50], [0,1,-90]])\n",
    "shifted = cv2.warpAffine(image, M, (image.shape[1], image.shape[0]))\n",
    "cv2.imshow(\"Shifted Up and Left\", shifted)\n",
    "cv2.waitKey(0)\n",
    "\n",
    "shifted = imutils.translate(image, 0, 100)\n",
    "cv2.imshow(\"Shifted Down Only\", shifted)\n",
    "cv2.waitKey(0)\n",
    "\n",
    "cv2.destroyAllWindows()"
   ]
  },
  {
   "cell_type": "markdown",
   "id": "a56ca5fc-480a-4418-8afb-2cc3b9517768",
   "metadata": {},
   "source": [
    "```\n",
    "dst = cv.warpAffine(src, M, dsize[, dst[, flags[, borderMode[, borderValue]]]] )\n",
    "```\n",
    " \n",
    "* src: input image\n",
    "* M: Transformation matrix\n",
    "* dsize: size of the output image\n",
    "* flags: interpolation method to be used"
   ]
  },
  {
   "cell_type": "markdown",
   "id": "782f413e-9c8b-4a23-9092-7b73225a4131",
   "metadata": {},
   "source": [
    "# Translation\n",
    "\n",
    "![Affine](notebook_figures/translation.png)"
   ]
  },
  {
   "cell_type": "markdown",
   "id": "90466640-8b0f-4f88-b57b-bdd050151f74",
   "metadata": {},
   "source": [
    "![Affine](notebook_figures/affine.png)\n",
    "![Affine](notebook_figures/affine12.png)"
   ]
  }
 ],
 "metadata": {
  "kernelspec": {
   "display_name": "Python 3",
   "language": "python",
   "name": "python3"
  },
  "language_info": {
   "codemirror_mode": {
    "name": "ipython",
    "version": 3
   },
   "file_extension": ".py",
   "mimetype": "text/x-python",
   "name": "python",
   "nbconvert_exporter": "python",
   "pygments_lexer": "ipython3",
   "version": "3.8.8"
  }
 },
 "nbformat": 4,
 "nbformat_minor": 5
}
