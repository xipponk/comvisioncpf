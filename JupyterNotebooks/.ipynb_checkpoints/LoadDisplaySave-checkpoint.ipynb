{
 "cells": [
  {
   "cell_type": "code",
   "execution_count": null,
   "id": "3aacdb1f-b46b-4615-8e98-6b5125005078",
   "metadata": {},
   "outputs": [],
   "source": [
    "import cv2\n",
    "\n",
    "path = r'../images/trex.png'\n",
    "image = cv2.imread(path)\n",
    "\n",
    "print(\"width: {} pixels\".format(image.shape[1]))\n",
    "print(\"height: {} pixels\".format(image.shape[0]))\n",
    "print(\"channels: {}\".format(image.shape[2]))\n",
    "\n",
    "cv2.startWindowThread()\n",
    "cv2.namedWindow(\"Image\")\n",
    "cv2.imshow(\"Image\", image)\n",
    "cv2.waitKey(0)\n",
    "\n",
    "cv2.imwrite(\"newimage.jpg\", image)\n",
    "path = r'newimage.jpg'\n",
    "newimage = cv2.imread(path)\n",
    "print(\"width: {} pixels\".format(newimage.shape[1]))\n",
    "print(\"height: {} pixels\".format(newimage.shape[0]))\n",
    "print(\"channels: {}\".format(newimage.shape[2]))\n",
    "cv2.imshow(\"NewImage\", newimage)\n",
    "cv2.waitKey(0)\n",
    "\n",
    "cv2.destroyAllWindows()"
   ]
  },
  {
   "cell_type": "markdown",
   "id": "ce58e439-d3ea-4b50-bd3b-940421192961",
   "metadata": {},
   "source": [
    "# Shape and Size of image\n",
    "* image.shape = returns a tuple of the number of rows, columns, and channels (if the image is color)\n",
    "* image.size = Total number of pixels can be found either by multiplying rows, columns, channels (same as rows*columns*channels)\n",
    "\n",
    "\n",
    "# Access the pixel location\n",
    "* img\\[250,250]       for single pixel\n",
    "* img\\[280:340, 330:390]         for region\n",
    "### Note\n",
    "OpenCV reads the color image in BGR mode and not in RGB mode. Be careful\n",
    "\n",
    "# Intensity of Image\n",
    "intensity levels depend on the number of bits\n",
    "* img.dtype --> dtype('uint8') = 8 bit image\n",
    "\n",
    "# Change image to greyscale\n",
    "* grey = cv2.cvtColor(img, cv2.COLOR_BGR2GRAY)"
   ]
  }
 ],
 "metadata": {
  "kernelspec": {
   "display_name": "Python 3",
   "language": "python",
   "name": "python3"
  },
  "language_info": {
   "codemirror_mode": {
    "name": "ipython",
    "version": 3
   },
   "file_extension": ".py",
   "mimetype": "text/x-python",
   "name": "python",
   "nbconvert_exporter": "python",
   "pygments_lexer": "ipython3",
   "version": "3.8.8"
  }
 },
 "nbformat": 4,
 "nbformat_minor": 5
}
