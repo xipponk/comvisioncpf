{
 "cells": [
  {
   "cell_type": "code",
   "execution_count": 8,
   "id": "dfe24071-3044-42c0-afc8-5e601312adf9",
   "metadata": {},
   "outputs": [
    {
     "name": "stdout",
     "output_type": "stream",
     "text": [
      "Array 42 with 0 dimension\n",
      "Array [1 2 3 4 5] with 1 dimension\n",
      "Array [[1 2 3]\n",
      " [4 5 6]] with 2 dimension\n",
      "Array [[[1 2 3]\n",
      "  [4 5 6]]\n",
      "\n",
      " [[1 2 3]\n",
      "  [4 5 6]]] with 3 dimension\n",
      "<class 'numpy.ndarray'>\n",
      "Power by 1.20.1\n"
     ]
    }
   ],
   "source": [
    "import numpy as np\n",
    "\n",
    "a = np.array(42)\n",
    "b = np.array([1, 2, 3, 4, 5])\n",
    "c = np.array([[1, 2, 3], [4, 5, 6]])\n",
    "d = np.array([[[1, 2, 3], [4, 5, 6]], [[1, 2, 3], [4, 5, 6]]])\n",
    "e = np.array([1, 2, 3, 4], ndmin=5)\n",
    "\n",
    "print(\"Array {} with {} dimension\".format(a, a.ndim))\n",
    "print(\"Array {} with {} dimension\".format(b, b.ndim))\n",
    "print(\"Array {} with {} dimension\".format(c, c.ndim))\n",
    "print(\"Array {} with {} dimension\".format(d, d.ndim))\n",
    "print(\"Array {} with {} dimension\".format(e, e.ndim))\n",
    "print(type(a))\n",
    "print('Power by {}'.format(np.__version__))"
   ]
  }
 ],
 "metadata": {
  "kernelspec": {
   "display_name": "Python 3",
   "language": "python",
   "name": "python3"
  },
  "language_info": {
   "codemirror_mode": {
    "name": "ipython",
    "version": 3
   },
   "file_extension": ".py",
   "mimetype": "text/x-python",
   "name": "python",
   "nbconvert_exporter": "python",
   "pygments_lexer": "ipython3",
   "version": "3.8.8"
  }
 },
 "nbformat": 4,
 "nbformat_minor": 5
}
