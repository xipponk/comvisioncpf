{
 "cells": [
  {
   "cell_type": "code",
   "execution_count": 45,
   "id": "9437d2a2-5539-4d0e-8ff4-012aefecb28f",
   "metadata": {},
   "outputs": [
    {
     "ename": "SyntaxError",
     "evalue": "unmatched ')' (<ipython-input-45-f432462027cd>, line 72)",
     "output_type": "error",
     "traceback": [
      "\u001b[1;36m  File \u001b[1;32m\"<ipython-input-45-f432462027cd>\"\u001b[1;36m, line \u001b[1;32m72\u001b[0m\n\u001b[1;33m    print('Coin #{} has a diameter equal to {:.2f} pixels or {:.2f} cm.'.format(i+1, round(radius*2), radius*2*0.03528)))\u001b[0m\n\u001b[1;37m                                                                                                                        ^\u001b[0m\n\u001b[1;31mSyntaxError\u001b[0m\u001b[1;31m:\u001b[0m unmatched ')'\n"
     ]
    }
   ],
   "source": [
    "import cv2\n",
    "import numpy as np\n",
    "from imutils import convenience\n",
    "from matplotlib import pyplot as plt\n",
    "\n",
    "#Load image and convert to gray scale\n",
    "path = r'../images/coins.png'\n",
    "image = cv2.imread(path)\n",
    "image = cv2.cvtColor(image, cv2.COLOR_BGR2RGB)\n",
    "gray = cv2.cvtColor(image, cv2.COLOR_BGR2GRAY)\n",
    "\n",
    "#Blur with Gaussian blur 5x5\n",
    "blurred = cv2.GaussianBlur(gray, (5,5), 0)\n",
    "\n",
    "#Run Canny edge detection automatically\n",
    "canny = convenience.auto_canny(blurred)\n",
    "\n",
    "#Find and draw contour on edged image\n",
    "(cnts, _) = cv2.findContours(canny.copy(), cv2.RETR_EXTERNAL, cv2.CHAIN_APPROX_SIMPLE)\n",
    "print(\"The image has {} pixels\".format(gray.size))\n",
    "print(\"I count {} coins in this image.\".format(len(cnts)))\n",
    "print('1 inch = 2.54cm')\n",
    "print('dpi of this image = 72 px/in')\n",
    "print('therefore 1px = 2.54/72 = 0.03528 cm')\n",
    "coins = image.copy()\n",
    "cv2.drawContours(coins, cnts, -1, (0, 255,  0), 2)\n",
    "\n",
    "#Plot the results\n",
    "fig = plt.figure(figsize=(15, 15)) #create figure\n",
    "fig.tight_layout(pad=3)\n",
    "#Ax1\n",
    "ax1 = fig.add_subplot(2, 2, 1)\n",
    "ax1.set_title(\"Original image\")\n",
    "ax1.imshow(image, cmap='gray')\n",
    "#Ax2\n",
    "ax2 = fig.add_subplot(2, 2, 2)\n",
    "ax2.set_title(\"Gaussian Blurred 5x5\")\n",
    "ax2.imshow(blurred, cmap='gray')\n",
    "#Ax3\n",
    "ax3 = fig.add_subplot(2, 2, 3)\n",
    "ax3.set_title(\"Canny Edge Detection\")\n",
    "ax3.imshow(canny, cmap='gray')\n",
    "#Ax4\n",
    "ax4 = fig.add_subplot(2, 2, 4)\n",
    "ax4.set_title(\"Coins detected\")\n",
    "ax4.imshow(coins)\n",
    "\n",
    "#Cut the coin from the image\n",
    "fig2, ax = plt.subplots(1, 9, figsize=(10, 7))\n",
    "fig3, bx = plt.subplots(1, 9, figsize=(10, 7))\n",
    "fig4, cx = plt.subplots(figsize=(7, 7))\n",
    "\n",
    "# Now, let's loop over each contour\n",
    "for (i, c) in enumerate(cnts):\n",
    "    #Draw number of contour on coins\n",
    "    ((cX, cY), radius) = cv2.minEnclosingCircle(c)\n",
    "    cv2.circle(coins, (int(cX), int(cY)), int(radius), (0, 255, 0), 2)\n",
    "    cv2.putText(coins, \"#{}\".format(i+1), (int(cX) - 10, int(cY)), cv2.FONT_HERSHEY_SIMPLEX, 0.5, (255, 0, 0), 2)\n",
    "    # We can compute the 'bounding box' for each contour, which is the rectangle that encloses the contour\n",
    "    (x, y, w, h) = cv2.boundingRect(c)\n",
    "    coin = image[y:y+h, x:x+w] # Now that we have the contour, let's extract it using array slices\n",
    "    ax[i].set(title='Coin #{}'.format(i+1))\n",
    "    ax[i].axes.xaxis.set_visible(False)\n",
    "    ax[i].axes.yaxis.set_visible(False)\n",
    "    ax[i].imshow(coin)\n",
    "    #Cut the coin into circle\n",
    "    mask = np.zeros(image.shape[:2], dtype = \"uint8\")\n",
    "    cv2.circle(mask, (int(cX), int(cY)), int(radius), 255, -1)\n",
    "    mask = mask[y:y+h,x:x+w]\n",
    "    mcoin = cv2.bitwise_and(coin, coin, mask=mask)\n",
    "    #formatted_float = \"{:.2f}\".format(a_float)\n",
    "    print('Coin #{} has a diameter equal to {:.2f} pixels or {:.2f} cm.'.format(i+1, round(radius*2), radius*2*0.03528))\n",
    "    bx[i].set(title='Coin #{}'.format(i+1))\n",
    "    bx[i].axes.xaxis.set_visible(False)\n",
    "    bx[i].axes.yaxis.set_visible(False)\n",
    "    bx[i].imshow(mcoin)\n",
    "\n",
    "cx.set(title='Counting contour')\n",
    "cx.axes.xaxis.set_visible(False)\n",
    "cx.axes.yaxis.set_visible(False)\n",
    "cx.imshow(coins)\n"
   ]
  },
  {
   "cell_type": "markdown",
   "id": "7f5a78f5-520f-4072-b2da-29177ba22034",
   "metadata": {},
   "source": [
    "`cv2.drawContours(image, contour, index of contour (-1 means all), RGB color code(0, 255,  0), thickness of contour line)`"
   ]
  }
 ],
 "metadata": {
  "kernelspec": {
   "display_name": "Python 3",
   "language": "python",
   "name": "python3"
  },
  "language_info": {
   "codemirror_mode": {
    "name": "ipython",
    "version": 3
   },
   "file_extension": ".py",
   "mimetype": "text/x-python",
   "name": "python",
   "nbconvert_exporter": "python",
   "pygments_lexer": "ipython3",
   "version": "3.8.8"
  }
 },
 "nbformat": 4,
 "nbformat_minor": 5
}
