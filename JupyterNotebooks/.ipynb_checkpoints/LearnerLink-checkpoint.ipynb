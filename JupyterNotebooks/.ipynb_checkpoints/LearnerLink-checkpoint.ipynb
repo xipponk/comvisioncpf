{
 "cells": [
  {
   "cell_type": "markdown",
   "id": "186f7930-a631-4258-9dc1-e93e7b5ccfd1",
   "metadata": {},
   "source": [
    "# Image Processing Learner Link\n",
    "# [link](https://theailearner.com/image-processing)"
   ]
  }
 ],
 "metadata": {
  "kernelspec": {
   "display_name": "Python 3",
   "language": "python",
   "name": "python3"
  },
  "language_info": {
   "codemirror_mode": {
    "name": "ipython",
    "version": 3
   },
   "file_extension": ".py",
   "mimetype": "text/x-python",
   "name": "python",
   "nbconvert_exporter": "python",
   "pygments_lexer": "ipython3",
   "version": "3.8.8"
  }
 },
 "nbformat": 4,
 "nbformat_minor": 5
}
