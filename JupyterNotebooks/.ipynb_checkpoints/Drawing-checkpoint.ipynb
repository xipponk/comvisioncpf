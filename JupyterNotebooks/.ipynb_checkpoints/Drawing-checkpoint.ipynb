{
 "cells": [
  {
   "cell_type": "code",
   "execution_count": 12,
   "id": "89ab6c80-5680-4ad1-827f-729dd318bdb4",
   "metadata": {},
   "outputs": [],
   "source": [
    "import numpy as np\n",
    "import cv2\n",
    "\n",
    "green = (0,255,0)\n",
    "red = (0,0,255)\n",
    "blue = (255,0,0)\n",
    "\n",
    "canvas = np.zeros((300, 500, 3), dtype=\"uint8\")\n",
    "cv2.line(canvas, (0,0), (500,300), green, 3)\n",
    "cv2.line(canvas, (0,300), (500,0), red, 3)\n",
    "cv2.rectangle(canvas, (125,75), (250,150), red, 3)\n",
    "cv2.rectangle(canvas, (375,75), (250,150), green, 3)\n",
    "cv2.startWindowThread()\n",
    "cv2.imshow(\"Canvas\", canvas)\n",
    "cv2.waitKey(0)\n",
    "cv2.destroyAllWindows()"
   ]
  }
 ],
 "metadata": {
  "kernelspec": {
   "display_name": "Python 3",
   "language": "python",
   "name": "python3"
  },
  "language_info": {
   "codemirror_mode": {
    "name": "ipython",
    "version": 3
   },
   "file_extension": ".py",
   "mimetype": "text/x-python",
   "name": "python",
   "nbconvert_exporter": "python",
   "pygments_lexer": "ipython3",
   "version": "3.8.8"
  }
 },
 "nbformat": 4,
 "nbformat_minor": 5
}
